{
 "cells": [
  {
   "cell_type": "markdown",
   "metadata": {},
   "source": [
    "# Project - LSTM-CNN model\n",
    "NLP - Sentimental Analysis of \"Large Movie Review Dataset\" using LSTM network\n",
    "\n",
    "CSE - 6363 - 003 : Machine Learning \n",
    "\n",
    "Team - 18 : Members -\n",
    "Preeti Singh - 1002013566\n",
    "Sai Sarath Reddy Koppula - 1002081785\n",
    "Renu Aakanksha Veesam - 1002113666"
   ]
  },
  {
   "cell_type": "markdown",
   "metadata": {
    "id": "mQr-fvdyJrxj"
   },
   "source": [
    "- IMDB Dataset is available in the Keras Module.\n",
    "- For the purpose of this project implementation, we are considering the IMDB dataset available in the Keras Module.\n",
    "- Please note that the original IMDB dataset has 25,000 training samples and 25,000 testing samples.\n",
    "- Whereas the IMDB module available in Keras module contains 25,000 samples.\n",
    "- Therefore, we are treating these 25,000 samples for training the model.\n",
    "- The rest 25,000 samples available in the original dataset will be used for testing the model."
   ]
  },
  {
   "cell_type": "code",
   "execution_count": null,
   "metadata": {
    "id": "8FSTa5dTOgKN"
   },
   "outputs": [],
   "source": [
    "import numpy as np\n",
    "import pandas as pd\n",
    "import tensorflow as tf\n",
    "from nltk.stem import WordNetLemmatizer\n",
    "from tensorflow.keras.datasets import imdb\n",
    "from tensorflow.keras.models import Sequential\n",
    "from tensorflow.keras.layers import Dense\n",
    "from tensorflow.keras.layers import LSTM\n",
    "from tensorflow.keras.preprocessing import sequence\n",
    "from tensorflow.keras.optimizers import Adam\n",
    "from spacy.lang.en.stop_words import STOP_WORDS\n",
    "from tensorflow.keras.preprocessing.text import Tokenizer\n",
    "from tensorflow.keras.preprocessing.sequence import pad_sequences\n",
    "from tensorflow.keras.layers.experimental.preprocessing import TextVectorization\n",
    "from tensorflow.keras.layers import Embedding, LSTM, Dense, Bidirectional, Dropout, Conv1D, MaxPooling1D, Flatten, Dense"
   ]
  },
  {
   "cell_type": "code",
   "execution_count": null,
   "metadata": {
    "colab": {
     "base_uri": "https://localhost:8080/"
    },
    "id": "5Oe07VoQOo5C",
    "outputId": "167ea19b-f81d-4371-eb88-2c7e71916367"
   },
   "outputs": [
    {
     "name": "stdout",
     "output_type": "stream",
     "text": [
      "Downloading data from https://storage.googleapis.com/tensorflow/tf-keras-datasets/imdb.npz\n",
      "17464789/17464789 [==============================] - 1s 0us/step\n"
     ]
    }
   ],
   "source": [
    "# As mentioned earlier, we are using the IMDB Dataset as available in Tensorflow Keras Module\n",
    "# Reference URL: https://www.tensorflow.org/api_docs/python/tf/keras/datasets/imdb/load_data\n",
    "\n",
    "# Please note that we are loading the data as is, not removing any words based on frequency\n",
    "(X_train, y_train), (X_test, y_test) = imdb.load_data()"
   ]
  },
  {
   "cell_type": "code",
   "execution_count": null,
   "metadata": {
    "colab": {
     "base_uri": "https://localhost:8080/"
    },
    "id": "s271IYB7Oq0T",
    "outputId": "10303f5b-904f-4454-d778-04fe8c767997"
   },
   "outputs": [
    {
     "name": "stdout",
     "output_type": "stream",
     "text": [
      "Number of samples in the Training Dataset:  25000\n",
      "Number of samples in the Testing Dataset:  25000\n"
     ]
    }
   ],
   "source": [
    "print(\"Number of samples in the Training Dataset: \", X_train.shape[0])\n",
    "print(\"Number of samples in the Testing Dataset: \", X_test.shape[0])"
   ]
  },
  {
   "cell_type": "code",
   "execution_count": null,
   "metadata": {
    "colab": {
     "base_uri": "https://localhost:8080/"
    },
    "id": "cinfZXTNOsMY",
    "outputId": "7c9b4eb6-f123-48a7-e2ff-693c46f9a5e1"
   },
   "outputs": [
    {
     "name": "stdout",
     "output_type": "stream",
     "text": [
      "A Random Sample from the training dataset: \n",
      "[1, 4922, 9519, 15062, 3745, 47, 6, 55, 52, 565, 114, 21, 9, 2262, 34, 954, 1373, 469, 4, 20, 13, 244, 6, 1155, 2343, 5, 161, 358, 14, 20, 55, 76, 13, 197, 4, 302, 71, 527, 21, 36, 238, 306, 441, 8, 1155, 476, 4, 2661, 1102, 2262, 4, 206, 25, 124, 15, 12, 16, 427, 1214, 95, 50, 16, 4, 24102, 7760, 35, 445, 1103, 37, 12471, 6949, 1526, 84, 5, 15062, 11, 63, 4922, 16, 13625, 8, 1176, 12, 32, 630, 40, 6, 801, 235, 52, 20, 54, 4922, 5, 41, 14186, 4932, 3242, 15159, 4108, 24102, 7760, 5, 2330, 90, 1437, 11, 4, 130, 38, 4922, 2271, 6, 2037, 2539, 2539, 2539, 146, 1623, 18, 4, 375, 29684]\n"
     ]
    }
   ],
   "source": [
    "# How does the data in Tensorflow IMDB Dataset Looklike?\n",
    "\n",
    "# Let's retrieve a random sample from the dataset\n",
    "random_sample = np.random.randint(X_train.shape[0])\n",
    "\n",
    "print(\"A Random Sample from the training dataset: \")\n",
    "print(X_train[random_sample])"
   ]
  },
  {
   "cell_type": "code",
   "execution_count": null,
   "metadata": {
    "id": "LD_55WphOwPa"
   },
   "outputs": [],
   "source": [
    "# Based on the 95th Percentile, setting the MAX_LEN to 610\n",
    "MAX_LEN = 610"
   ]
  },
  {
   "cell_type": "code",
   "execution_count": null,
   "metadata": {
    "id": "VhqcEKvJOw90"
   },
   "outputs": [],
   "source": [
    "# Updating the training data\n",
    "X_train = sequence.pad_sequences(X_train, maxlen=MAX_LEN, padding='post')\n",
    "\n",
    "# Updating the testing data too\n",
    "X_test = sequence.pad_sequences(X_test, maxlen=MAX_LEN, padding='post')"
   ]
  },
  {
   "cell_type": "code",
   "execution_count": null,
   "metadata": {
    "colab": {
     "base_uri": "https://localhost:8080/"
    },
    "id": "OxgsEj0UOykA",
    "outputId": "7f25ad7b-e04b-41ae-efbf-a244d0f7c9ac"
   },
   "outputs": [
    {
     "name": "stdout",
     "output_type": "stream",
     "text": [
      "A Random Sample from the training dataset: \n",
      "[   1   13   86  219   14   20  145   11    4 5453    5  150   11 2945\n",
      "   14   20  131    9   31    7    4  118  102   13   28  126  110   13\n",
      "   62  386  259    8  168   33   14   20   25   80   24   30  806   12\n",
      "    9   73  917   46   38  147    5  115    6  753  561    4  116    9\n",
      "  897    5    4 1622  166    4   20  306   40   25   26   50   39    4\n",
      "  454  208   56    8    4  130   14   20    9    4  552   15  166   25\n",
      " 1585  129  692    4  524  127   35  321  292    7 2265    4  250   37\n",
      " 4674   14 2993 1707 2487   11    4 5509    5   12  287   89   59 1319\n",
      "    8 2007   11    4 5509   32  584   12    9 1297   15  259  100 2007\n",
      "  467  141 5114   14    9  138   14   20    9   38 2276    4  192   15\n",
      "   14    9    6  283   65  166    4   20   60   53  221    5    8  104\n",
      "   15    6  185  250  100 2007   39   14 7021    9 3981   13  169   14\n",
      "   20   31   15   13   70  106  120    5  120  174    5   31   15   13\n",
      "  115   79 1458    7   14    9  849  179    6 7163   17   13   28 3103\n",
      "    7  102   13   62  135   14    9  242   61  514   20    5    4  118\n",
      "   13   28  126  110    0    0    0    0    0    0    0    0    0    0\n",
      "    0    0    0    0    0    0    0    0    0    0    0    0    0    0\n",
      "    0    0    0    0    0    0    0    0    0    0    0    0    0    0\n",
      "    0    0    0    0    0    0    0    0    0    0    0    0    0    0\n",
      "    0    0    0    0    0    0    0    0    0    0    0    0    0    0\n",
      "    0    0    0    0    0    0    0    0    0    0    0    0    0    0\n",
      "    0    0    0    0    0    0    0    0    0    0    0    0    0    0\n",
      "    0    0    0    0    0    0    0    0    0    0    0    0    0    0\n",
      "    0    0    0    0    0    0    0    0    0    0    0    0    0    0\n",
      "    0    0    0    0    0    0    0    0    0    0    0    0    0    0\n",
      "    0    0    0    0    0    0    0    0    0    0    0    0    0    0\n",
      "    0    0    0    0    0    0    0    0    0    0    0    0    0    0\n",
      "    0    0    0    0    0    0    0    0    0    0    0    0    0    0\n",
      "    0    0    0    0    0    0    0    0    0    0    0    0    0    0\n",
      "    0    0    0    0    0    0    0    0    0    0    0    0    0    0\n",
      "    0    0    0    0    0    0    0    0    0    0    0    0    0    0\n",
      "    0    0    0    0    0    0    0    0    0    0    0    0    0    0\n",
      "    0    0    0    0    0    0    0    0    0    0    0    0    0    0\n",
      "    0    0    0    0    0    0    0    0    0    0    0    0    0    0\n",
      "    0    0    0    0    0    0    0    0    0    0    0    0    0    0\n",
      "    0    0    0    0    0    0    0    0    0    0    0    0    0    0\n",
      "    0    0    0    0    0    0    0    0    0    0    0    0    0    0\n",
      "    0    0    0    0    0    0    0    0    0    0    0    0    0    0\n",
      "    0    0    0    0    0    0    0    0    0    0    0    0    0    0\n",
      "    0    0    0    0    0    0    0    0    0    0    0    0    0    0\n",
      "    0    0    0    0    0    0    0    0    0    0    0    0    0    0\n",
      "    0    0    0    0    0    0    0    0    0    0    0    0    0    0\n",
      "    0    0    0    0    0    0    0    0    0    0    0    0    0    0\n",
      "    0    0    0    0    0    0    0    0]\n"
     ]
    }
   ],
   "source": [
    "# Let's retrieve a random sample from the dataset\n",
    "random_sample = np.random.randint(X_train.shape[0])\n",
    "\n",
    "print(\"A Random Sample from the training dataset: \")\n",
    "print(X_train[random_sample])"
   ]
  },
  {
   "cell_type": "code",
   "execution_count": null,
   "metadata": {
    "colab": {
     "base_uri": "https://localhost:8080/"
    },
    "id": "fmozaHV5O0DJ",
    "outputId": "dfa787e3-094b-471d-dfe0-dfc2df833f2e"
   },
   "outputs": [
    {
     "name": "stdout",
     "output_type": "stream",
     "text": [
      "MAX TOKEN# IS:  88586\n"
     ]
    }
   ],
   "source": [
    "MAX_TOKEN = max([t for tokens in X_train for t in tokens ])\n",
    "\n",
    "print(\"MAX TOKEN# IS: \", MAX_TOKEN)"
   ]
  },
  {
   "cell_type": "code",
   "execution_count": null,
   "metadata": {
    "id": "7AE1nrTsO1kJ"
   },
   "outputs": [],
   "source": [
    "# Trying different Embedding Lengths\n",
    "EMBED_LENS = [32, 64]\n",
    "\n",
    "# Trying different Batch Sizes\n",
    "BATCH_SIZES = [32, 64]"
   ]
  },
  {
   "cell_type": "code",
   "execution_count": null,
   "metadata": {
    "colab": {
     "base_uri": "https://localhost:8080/"
    },
    "id": "Ie9hQh-zNdKf",
    "outputId": "20461a4c-db95-4386-de3e-cd7e68fa26d4"
   },
   "outputs": [
    {
     "name": "stdout",
     "output_type": "stream",
     "text": [
      "Currently Running Model with Hyper-parameter Combination#  1\n",
      "Epoch 1/10\n",
      "782/782 [==============================] - 116s 144ms/step - loss: 0.3459 - accuracy: 0.8367\n",
      "Epoch 2/10\n",
      "782/782 [==============================] - 56s 71ms/step - loss: 0.1241 - accuracy: 0.9557\n",
      "Epoch 3/10\n",
      "782/782 [==============================] - 32s 42ms/step - loss: 0.0522 - accuracy: 0.9819\n",
      "Epoch 4/10\n",
      "782/782 [==============================] - 26s 33ms/step - loss: 0.0319 - accuracy: 0.9893\n",
      "Epoch 5/10\n",
      "782/782 [==============================] - 27s 35ms/step - loss: 0.0200 - accuracy: 0.9926\n",
      "Epoch 6/10\n",
      "782/782 [==============================] - 25s 32ms/step - loss: 0.0184 - accuracy: 0.9943\n",
      "Epoch 7/10\n",
      "782/782 [==============================] - 24s 30ms/step - loss: 0.0122 - accuracy: 0.9957\n",
      "Epoch 8/10\n",
      "782/782 [==============================] - 24s 31ms/step - loss: 0.0123 - accuracy: 0.9960\n",
      "Epoch 9/10\n",
      "782/782 [==============================] - 22s 28ms/step - loss: 0.0127 - accuracy: 0.9964\n",
      "Epoch 10/10\n",
      "782/782 [==============================] - 22s 29ms/step - loss: 0.0086 - accuracy: 0.9973\n",
      "\n",
      "\n",
      "**************************************************\n",
      "Currently Running Model with Hyper-parameter Combination#  2\n",
      "Epoch 1/10\n",
      "391/391 [==============================] - 72s 176ms/step - loss: 0.3841 - accuracy: 0.8093\n",
      "Epoch 2/10\n",
      "391/391 [==============================] - 48s 122ms/step - loss: 0.1402 - accuracy: 0.9488\n",
      "Epoch 3/10\n",
      "391/391 [==============================] - 36s 93ms/step - loss: 0.0527 - accuracy: 0.9835\n",
      "Epoch 4/10\n",
      "391/391 [==============================] - 25s 64ms/step - loss: 0.0247 - accuracy: 0.9915\n",
      "Epoch 5/10\n",
      "391/391 [==============================] - 21s 53ms/step - loss: 0.0200 - accuracy: 0.9936\n",
      "Epoch 6/10\n",
      "391/391 [==============================] - 19s 49ms/step - loss: 0.0176 - accuracy: 0.9944\n",
      "Epoch 7/10\n",
      "391/391 [==============================] - 18s 47ms/step - loss: 0.0163 - accuracy: 0.9950\n",
      "Epoch 8/10\n",
      "391/391 [==============================] - 16s 41ms/step - loss: 0.0073 - accuracy: 0.9978\n",
      "Epoch 9/10\n",
      "391/391 [==============================] - 15s 39ms/step - loss: 0.0105 - accuracy: 0.9962\n",
      "Epoch 10/10\n",
      "391/391 [==============================] - 14s 35ms/step - loss: 0.0118 - accuracy: 0.9962\n",
      "\n",
      "\n",
      "**************************************************\n",
      "Currently Running Model with Hyper-parameter Combination#  3\n",
      "Epoch 1/10\n",
      "782/782 [==============================] - 104s 130ms/step - loss: 0.3697 - accuracy: 0.8222\n",
      "Epoch 2/10\n",
      "782/782 [==============================] - 53s 67ms/step - loss: 0.1378 - accuracy: 0.9505\n",
      "Epoch 3/10\n",
      "782/782 [==============================] - 36s 46ms/step - loss: 0.0514 - accuracy: 0.9820\n",
      "Epoch 4/10\n",
      "782/782 [==============================] - 29s 36ms/step - loss: 0.0253 - accuracy: 0.9916\n",
      "Epoch 5/10\n",
      "782/782 [==============================] - 26s 33ms/step - loss: 0.0192 - accuracy: 0.9935\n",
      "Epoch 6/10\n",
      "782/782 [==============================] - 24s 30ms/step - loss: 0.0156 - accuracy: 0.9945\n",
      "Epoch 7/10\n",
      "782/782 [==============================] - 22s 29ms/step - loss: 0.0109 - accuracy: 0.9962\n",
      "Epoch 8/10\n",
      "782/782 [==============================] - 23s 29ms/step - loss: 0.0087 - accuracy: 0.9971\n",
      "Epoch 9/10\n",
      "782/782 [==============================] - 22s 28ms/step - loss: 0.0102 - accuracy: 0.9966\n",
      "Epoch 10/10\n",
      "782/782 [==============================] - 21s 27ms/step - loss: 0.0051 - accuracy: 0.9985\n",
      "\n",
      "\n",
      "**************************************************\n",
      "Currently Running Model with Hyper-parameter Combination#  4\n",
      "Epoch 1/10\n",
      "391/391 [==============================] - 65s 159ms/step - loss: 0.4090 - accuracy: 0.7802\n",
      "Epoch 2/10\n",
      "391/391 [==============================] - 42s 109ms/step - loss: 0.1426 - accuracy: 0.9487\n",
      "Epoch 3/10\n",
      "391/391 [==============================] - 32s 81ms/step - loss: 0.0523 - accuracy: 0.9823\n",
      "Epoch 4/10\n",
      "391/391 [==============================] - 25s 65ms/step - loss: 0.0258 - accuracy: 0.9917\n",
      "Epoch 5/10\n",
      "391/391 [==============================] - 25s 63ms/step - loss: 0.0187 - accuracy: 0.9941\n",
      "Epoch 6/10\n",
      "391/391 [==============================] - 21s 54ms/step - loss: 0.0119 - accuracy: 0.9962\n",
      "Epoch 7/10\n",
      "391/391 [==============================] - 19s 49ms/step - loss: 0.0129 - accuracy: 0.9956\n",
      "Epoch 8/10\n",
      "391/391 [==============================] - 15s 38ms/step - loss: 0.0080 - accuracy: 0.9973\n",
      "Epoch 9/10\n",
      "391/391 [==============================] - 14s 35ms/step - loss: 0.0126 - accuracy: 0.9960\n",
      "Epoch 10/10\n",
      "391/391 [==============================] - 13s 33ms/step - loss: 0.0073 - accuracy: 0.9974\n",
      "\n",
      "\n",
      "**************************************************\n"
     ]
    }
   ],
   "source": [
    "model_vs_params = {}\n",
    "model_vs_history = {}\n",
    "model_vs_accuracy = {}\n",
    "\n",
    "model_number = 1\n",
    "\n",
    "for EMBED_LEN in EMBED_LENS:\n",
    "\n",
    "  for BATCH_SIZE in BATCH_SIZES:\n",
    "\n",
    "    print(\"Currently Running Model with Hyper-parameter Combination# \", model_number)\n",
    "\n",
    "    # Create the LSTM-CNN model\n",
    "    model = Sequential()\n",
    "\n",
    "    # Add an embedding layer\n",
    "    model.add(Embedding(input_dim=88586, output_dim=EMBED_LEN, input_length=MAX_LEN))\n",
    "\n",
    "    # Add an LSTM layer\n",
    "    model.add(LSTM(units=50, return_sequences=True))\n",
    "\n",
    "    # Add a 1D convolutional layer\n",
    "    model.add(Conv1D(filters=32, kernel_size=3, activation='relu'))\n",
    "\n",
    "    # Add a max pooling layer\n",
    "    model.add(MaxPooling1D(pool_size=2))\n",
    "\n",
    "    # Add another 1D convolutional layer\n",
    "    model.add(Conv1D(filters=64, kernel_size=3, activation='relu'))\n",
    "\n",
    "    # Add another max pooling layer\n",
    "    model.add(MaxPooling1D(pool_size=2))\n",
    "\n",
    "    # Flatten the output before the dense layer\n",
    "    model.add(Flatten())\n",
    "\n",
    "    # Add a dense layer for classification\n",
    "    model.add(Dense(units=64, activation='relu'))\n",
    "    model.add(Dense(units=1, activation='sigmoid'))\n",
    "\n",
    "    # Compile the model\n",
    "    model.compile(optimizer='adam', loss='binary_crossentropy', metrics=['accuracy'])\n",
    "\n",
    "    # Print the model summary\n",
    "    #model.summary()\n",
    "\n",
    "    # Train the model\n",
    "    history = model.fit(X_train, y_train, epochs=10, batch_size=BATCH_SIZE)\n",
    "\n",
    "    scores = model.evaluate(X_test, y_test, verbose=0)\n",
    "\n",
    "    model_vs_params[model_number] = [EMBED_LEN, BATCH_SIZE]\n",
    "    model_vs_history[model_number] = history.history\n",
    "    model_vs_accuracy[model_number] = scores[0]*100\n",
    "\n",
    "    model_number += 1\n",
    "\n",
    "    print()\n",
    "    print()\n",
    "    print(\"*\"*50)"
   ]
  },
  {
   "cell_type": "code",
   "execution_count": null,
   "metadata": {
    "colab": {
     "base_uri": "https://localhost:8080/"
    },
    "id": "Y_-F0tGhPeDt",
    "outputId": "aa74510d-627f-4550-fa0b-a90bea0d9547"
   },
   "outputs": [
    {
     "name": "stdout",
     "output_type": "stream",
     "text": [
      "Combination#  1\n",
      "--------------------------------------------------\n",
      "Combination Details: \n",
      "EMBED_LEN:  32  BATCH_SIZE:  32\n",
      "--------------------------------------------------\n",
      "Training Set Accuracy:  0.9972800016403198\n",
      "Test Set Accuracy:  91.75071120262146\n",
      "**************************************************\n",
      "Combination#  2\n",
      "--------------------------------------------------\n",
      "Combination Details: \n",
      "EMBED_LEN:  32  BATCH_SIZE:  64\n",
      "--------------------------------------------------\n",
      "Training Set Accuracy:  0.9962000250816345\n",
      "Test Set Accuracy:  93.03390383720398\n",
      "**************************************************\n",
      "Combination#  3\n",
      "--------------------------------------------------\n",
      "Combination Details: \n",
      "EMBED_LEN:  64  BATCH_SIZE:  32\n",
      "--------------------------------------------------\n",
      "Training Set Accuracy:  0.9984800219535828\n",
      "Test Set Accuracy:  114.90621566772461\n",
      "**************************************************\n",
      "Combination#  4\n",
      "--------------------------------------------------\n",
      "Combination Details: \n",
      "EMBED_LEN:  64  BATCH_SIZE:  64\n",
      "--------------------------------------------------\n",
      "Training Set Accuracy:  0.9973999857902527\n",
      "Test Set Accuracy:  95.7604169845581\n",
      "**************************************************\n"
     ]
    }
   ],
   "source": [
    "for i in model_vs_params.keys():\n",
    "  print(\"Combination# \", i)\n",
    "\n",
    "  print(\"-\"*50)\n",
    "  print(\"Combination Details: \")\n",
    "  print(\"EMBED_LEN: \", model_vs_params[i][0], \" BATCH_SIZE: \", model_vs_params[i][1])\n",
    "  print(\"-\"*50)\n",
    "\n",
    "  print(\"Training Set Accuracy: \", model_vs_history[i]['accuracy'][-1])\n",
    "  print(\"Test Set Accuracy: \", model_vs_accuracy[i])\n",
    "  print(\"*\"*50)"
   ]
  },
  {
   "cell_type": "markdown",
   "metadata": {
    "id": "lO25EmqDGcBY"
   },
   "source": [
    "# Hyper-parameter Results:\n",
    "\n",
    "Combination#  4\n",
    "--------------------------------------------------\n",
    "Combination Details:\n",
    "EMBED_LEN:  64  BATCH_SIZE:  64\n",
    "--------------------------------------------------\n",
    "Training Set Accuracy:  0.9973999857902527\n",
    "Test Set Accuracy:  95.7604169845581"
   ]
  },
  {
   "cell_type": "code",
   "execution_count": null,
   "metadata": {
    "colab": {
     "base_uri": "https://localhost:8080/"
    },
    "id": "-Z15uWXaajU-",
    "outputId": "a8d96d82-27fd-4746-a903-382ac8c3714b"
   },
   "outputs": [
    {
     "name": "stdout",
     "output_type": "stream",
     "text": [
      "Model: \"sequential\"\n",
      "_________________________________________________________________\n",
      " Layer (type)                Output Shape              Param #   \n",
      "=================================================================\n",
      " embedding (Embedding)       (None, 610, 64)           5669504   \n",
      "                                                                 \n",
      " lstm (LSTM)                 (None, 610, 50)           23000     \n",
      "                                                                 \n",
      " conv1d (Conv1D)             (None, 608, 32)           4832      \n",
      "                                                                 \n",
      " max_pooling1d (MaxPooling1  (None, 304, 32)           0         \n",
      " D)                                                              \n",
      "                                                                 \n",
      " conv1d_1 (Conv1D)           (None, 302, 64)           6208      \n",
      "                                                                 \n",
      " max_pooling1d_1 (MaxPoolin  (None, 151, 64)           0         \n",
      " g1D)                                                            \n",
      "                                                                 \n",
      " flatten (Flatten)           (None, 9664)              0         \n",
      "                                                                 \n",
      " dense (Dense)               (None, 64)                618560    \n",
      "                                                                 \n",
      " dense_1 (Dense)             (None, 1)                 65        \n",
      "                                                                 \n",
      "=================================================================\n",
      "Total params: 6322169 (24.12 MB)\n",
      "Trainable params: 6322169 (24.12 MB)\n",
      "Non-trainable params: 0 (0.00 Byte)\n",
      "_________________________________________________________________\n",
      "Epoch 1/10\n",
      "391/391 [==============================] - 75s 157ms/step - loss: 0.3591 - accuracy: 0.8265\n",
      "Epoch 2/10\n",
      "391/391 [==============================] - 43s 110ms/step - loss: 0.1296 - accuracy: 0.9535\n",
      "Epoch 3/10\n",
      "391/391 [==============================] - 34s 87ms/step - loss: 0.0487 - accuracy: 0.9828\n",
      "Epoch 4/10\n",
      "391/391 [==============================] - 22s 58ms/step - loss: 0.0243 - accuracy: 0.9912\n",
      "Epoch 5/10\n",
      "391/391 [==============================] - 21s 54ms/step - loss: 0.0181 - accuracy: 0.9935\n",
      "Epoch 6/10\n",
      "391/391 [==============================] - 19s 47ms/step - loss: 0.0183 - accuracy: 0.9935\n",
      "Epoch 7/10\n",
      "391/391 [==============================] - 16s 42ms/step - loss: 0.0114 - accuracy: 0.9962\n",
      "Epoch 8/10\n",
      "391/391 [==============================] - 14s 35ms/step - loss: 0.0107 - accuracy: 0.9963\n",
      "Epoch 9/10\n",
      "391/391 [==============================] - 13s 34ms/step - loss: 0.0056 - accuracy: 0.9982\n",
      "Epoch 10/10\n",
      "391/391 [==============================] - 14s 37ms/step - loss: 0.0116 - accuracy: 0.9958\n"
     ]
    }
   ],
   "source": [
    "EMBED_LEN = 64\n",
    "BATCH_SIZE = 64\n",
    "\n",
    "model = Sequential()\n",
    "\n",
    "# Add an embedding layer\n",
    "model.add(Embedding(input_dim=88586, output_dim=EMBED_LEN, input_length=MAX_LEN))\n",
    "\n",
    "# Add an LSTM layer\n",
    "model.add(LSTM(units=50, return_sequences=True))\n",
    "\n",
    "# Add a 1D convolutional layer\n",
    "model.add(Conv1D(filters=32, kernel_size=3, activation='relu'))\n",
    "\n",
    "# Add a max pooling layer\n",
    "model.add(MaxPooling1D(pool_size=2))\n",
    "\n",
    "# Add another 1D convolutional layer\n",
    "model.add(Conv1D(filters=64, kernel_size=3, activation='relu'))\n",
    "\n",
    "# Add another max pooling layer\n",
    "model.add(MaxPooling1D(pool_size=2))\n",
    "\n",
    "# Flatten the output before the dense layer\n",
    "model.add(Flatten())\n",
    "\n",
    "# Add a dense layer for classification\n",
    "model.add(Dense(units=64, activation='relu'))\n",
    "model.add(Dense(units=1, activation='sigmoid'))\n",
    "\n",
    "# Compile the model\n",
    "model.compile(optimizer='adam', loss='binary_crossentropy', metrics=['accuracy'])\n",
    "\n",
    "# Print the model summary\n",
    "model.summary()\n",
    "\n",
    "# Train the model\n",
    "history = model.fit(X_train, y_train, epochs=10, batch_size=BATCH_SIZE)\n",
    "\n",
    "scores = model.evaluate(X_test, y_test, verbose=0)"
   ]
  },
  {
   "cell_type": "code",
   "execution_count": null,
   "metadata": {
    "colab": {
     "base_uri": "https://localhost:8080/",
     "height": 887
    },
    "id": "mBBcmBXYG8-O",
    "outputId": "d677aac3-e594-4738-e3f2-8000076b7644"
   },
   "outputs": [
    {
     "data": {
      "image/png": "[encoded data removed]",
      "text/plain": [
       "<Figure size 640x480 with 1 Axes>"
      ]
     },
     "metadata": {},
     "output_type": "display_data"
    },
    {
     "data": {
      "image/png": "[encoded data removed]",
      "text/plain": [
       "<Figure size 640x480 with 1 Axes>"
      ]
     },
     "metadata": {},
     "output_type": "display_data"
    }
   ],
   "source": [
    "import matplotlib.pyplot as plt\n",
    "\n",
    "plt.plot(history.history[\"loss\"], marker=\"x\", color=\"blue\")\n",
    "plt.title(\"Epoch-wise Training Loss Scores\")\n",
    "plt.show()\n",
    "\n",
    "plt.plot(history.history[\"accuracy\"], marker=\"x\", color=\"blue\")\n",
    "plt.title(\"Epoch-wise Training Accuracy Scores\")\n",
    "plt.show()"
   ]
  },
  {
   "cell_type": "code",
   "execution_count": null,
   "metadata": {
    "colab": {
     "base_uri": "https://localhost:8080/"
    },
    "id": "EyhLfC7ZIaJQ",
    "outputId": "07ff17e4-98ac-4f0a-dcac-8b4c0923282f"
   },
   "outputs": [
    {
     "name": "stdout",
     "output_type": "stream",
     "text": [
      "Test Set Accuracy after 20 epochs:  99.43545460700989\n"
     ]
    }
   ],
   "source": [
    "print(\"Test Set Accuracy after 20 epochs: \", scores[0]*100)"
   ]
  }
 ],
 "metadata": {
  "accelerator": "GPU",
  "colab": {
   "gpuType": "A100",
   "machine_shape": "hm",
   "provenance": []
  },
  "kernelspec": {
   "display_name": "Python 3 (ipykernel)",
   "language": "python",
   "name": "python3"
  },
  "language_info": {
   "codemirror_mode": {
    "name": "ipython",
    "version": 3
   },
   "file_extension": ".py",
   "mimetype": "text/x-python",
   "name": "python",
   "nbconvert_exporter": "python",
   "pygments_lexer": "ipython3",
   "version": "3.9.13"
  }
 },
 "nbformat": 4,
 "nbformat_minor": 1
}
